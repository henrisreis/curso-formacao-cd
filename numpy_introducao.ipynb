{
 "cells": [
  {
   "cell_type": "code",
   "execution_count": 15,
   "id": "0e243703-e82f-4378-9a6d-d62ff32b9992",
   "metadata": {
    "tags": []
   },
   "outputs": [],
   "source": [
    "import numpy as np"
   ]
  },
  {
   "cell_type": "code",
   "execution_count": 16,
   "id": "91490e9f-5de0-40a7-a239-0737d295af94",
   "metadata": {
    "tags": []
   },
   "outputs": [
    {
     "name": "stdout",
     "output_type": "stream",
     "text": [
      "[12 34 26 18 10]\n",
      "<class 'numpy.ndarray'>\n"
     ]
    }
   ],
   "source": [
    "# Para criar uma matriz unidimensional\n",
    "\n",
    "mt = np.array([12, 34, 26, 18, 10]) # Array passado como argumento do método \"array()\" de \"numpy\"\n",
    "print(mt)\n",
    "print(type(mt))"
   ]
  },
  {
   "cell_type": "code",
   "execution_count": 17,
   "id": "19dd766e-6d77-42b2-8fc3-73465f899f5c",
   "metadata": {
    "tags": []
   },
   "outputs": [
    {
     "name": "stdout",
     "output_type": "stream",
     "text": [
      "[1. 2. 3.]\n",
      "<class 'numpy.ndarray'>\n"
     ]
    }
   ],
   "source": [
    "# Para criar uma matriz com tipos específicos\n",
    "# Criar um array do tipo float de 64 bits\n",
    "\n",
    "mtfloat = np.array([1, 2, 3], dtype = np.float64)\n",
    "print(mtfloat)\n",
    "print(type(mtfloat))"
   ]
  },
  {
   "cell_type": "code",
   "execution_count": 18,
   "id": "675c9549-c34e-4934-9a25-6ef324651ba9",
   "metadata": {
    "tags": []
   },
   "outputs": [
    {
     "name": "stdout",
     "output_type": "stream",
     "text": [
      "[1 2 3]\n",
      "<class 'numpy.ndarray'>\n"
     ]
    }
   ],
   "source": [
    "# Para criar uma matriz com tipos específicos\n",
    "# Criar um array do tipo int de 32 bits\n",
    "\n",
    "mtint = np.array([1, 2, 3], dtype = np.int32)\n",
    "print(mtint)\n",
    "print(type(mtint))"
   ]
  },
  {
   "cell_type": "code",
   "execution_count": 19,
   "id": "ac87f83f-d884-4e4d-8a38-08245f142f04",
   "metadata": {
    "tags": []
   },
   "outputs": [
    {
     "name": "stdout",
     "output_type": "stream",
     "text": [
      "[ 1.4       3.6      -5.1       9.42      4.999999]\n",
      "[ 1  3 -5  9  4]\n"
     ]
    }
   ],
   "source": [
    "# Para mudar o tipo do array de float para int\n",
    "\n",
    "mt_new = np.array([1.4, 3.6, -5.1, 9.42, 4.999999])\n",
    "print(mt_new)\n",
    "\n",
    "mt_new_int = mt_new.astype(np.int32) # Quando transformamos de float para int, os valores são truncados\n",
    "print(mt_new_int)"
   ]
  },
  {
   "cell_type": "code",
   "execution_count": 20,
   "id": "26547d8c-add0-478b-878e-c1da7f078500",
   "metadata": {
    "tags": []
   },
   "outputs": [
    {
     "name": "stdout",
     "output_type": "stream",
     "text": [
      "[1 2 3 4]\n",
      "[1. 2. 3. 4.]\n"
     ]
    }
   ],
   "source": [
    "# Para mudar o tipo do array de int para float\n",
    "\n",
    "mt_int = np.array([1, 2, 3, 4])\n",
    "print(mt_int)\n",
    "\n",
    "mt_float = mt_int.astype(np.float64)\n",
    "print(mt_float)"
   ]
  },
  {
   "cell_type": "code",
   "execution_count": 21,
   "id": "ba5237e9-ab27-4ca8-b415-b74a290ff8bf",
   "metadata": {
    "tags": []
   },
   "outputs": [
    {
     "name": "stdout",
     "output_type": "stream",
     "text": [
      "[[1 2 3]\n",
      " [4 5 6]\n",
      " [7 8 9]]\n"
     ]
    }
   ],
   "source": [
    "# Para criar uma matriz bidimensional\n",
    "\n",
    "mt_bi = np.array([[1, 2, 3], [4, 5, 6], [7, 8, 9]])\n",
    "print(mt_bi)"
   ]
  },
  {
   "cell_type": "code",
   "execution_count": 22,
   "id": "152be6c1-a200-4f41-a7c8-5436f3a360bc",
   "metadata": {
    "tags": []
   },
   "outputs": [
    {
     "name": "stdout",
     "output_type": "stream",
     "text": [
      "[[         0 1072693248]\n",
      " [         0 1073741824]\n",
      " [         0 1074266112]]\n"
     ]
    }
   ],
   "source": [
    "# Para criar arrays não inicializados tipificados\n",
    "# O método \"empty()\" sugere que o array não foi inicializado, não que é vazio\n",
    "\n",
    "vazio = np.empty([3,2], dtype = int)\n",
    "print(vazio)"
   ]
  },
  {
   "cell_type": "code",
   "execution_count": 23,
   "id": "2cb829d7-abe0-4df0-be44-dc59433d9bdc",
   "metadata": {
    "tags": []
   },
   "outputs": [
    {
     "name": "stdout",
     "output_type": "stream",
     "text": [
      "[[0. 0. 0.]\n",
      " [0. 0. 0.]\n",
      " [0. 0. 0.]\n",
      " [0. 0. 0.]]\n"
     ]
    }
   ],
   "source": [
    "# Para criar uma matriz 4x3 de zeros\n",
    "\n",
    "mt_zeros = np.zeros([4,3])\n",
    "print(mt_zeros)"
   ]
  },
  {
   "cell_type": "code",
   "execution_count": 24,
   "id": "c6846dac-c649-4fef-8f2c-22052961736a",
   "metadata": {
    "tags": []
   },
   "outputs": [
    {
     "name": "stdout",
     "output_type": "stream",
     "text": [
      "[[1. 1. 1. 1. 1. 1. 1.]\n",
      " [1. 1. 1. 1. 1. 1. 1.]\n",
      " [1. 1. 1. 1. 1. 1. 1.]\n",
      " [1. 1. 1. 1. 1. 1. 1.]\n",
      " [1. 1. 1. 1. 1. 1. 1.]]\n"
     ]
    }
   ],
   "source": [
    "# Para criar uma matriz 5x7 de 1\n",
    "\n",
    "mt_ones = np.ones([5,7])\n",
    "print(mt_ones)"
   ]
  },
  {
   "cell_type": "code",
   "execution_count": 25,
   "id": "53edb425-56df-4747-be81-a72e13907505",
   "metadata": {
    "tags": []
   },
   "outputs": [
    {
     "name": "stdout",
     "output_type": "stream",
     "text": [
      "[[1. 0. 0. 0. 0.]\n",
      " [0. 1. 0. 0. 0.]\n",
      " [0. 0. 1. 0. 0.]\n",
      " [0. 0. 0. 1. 0.]\n",
      " [0. 0. 0. 0. 1.]]\n"
     ]
    }
   ],
   "source": [
    "# Para criar uma matriz identidade de ordem 5\n",
    "\n",
    "mt_id = np.eye(5)\n",
    "print(mt_id)"
   ]
  },
  {
   "cell_type": "code",
   "execution_count": 28,
   "id": "2fca2cef-25a8-4764-8068-fca2c3993347",
   "metadata": {
    "tags": []
   },
   "outputs": [
    {
     "name": "stdout",
     "output_type": "stream",
     "text": [
      "[0.7364112  0.56722853 0.23136197 0.27859836 0.32700221]\n"
     ]
    }
   ],
   "source": [
    "# Para criar um array de valores aleatórios entre 0 e 1 de ordem 5\n",
    "\n",
    "ar_rd = np.random.random((5))\n",
    "print(ar_rd)"
   ]
  },
  {
   "cell_type": "code",
   "execution_count": 32,
   "id": "a2460428-42fb-4c9c-b0f7-7e90a8211345",
   "metadata": {
    "tags": []
   },
   "outputs": [
    {
     "name": "stdout",
     "output_type": "stream",
     "text": [
      "[-0.93590444 -1.29751459  0.70196278  0.15597835  1.28044454]\n"
     ]
    }
   ],
   "source": [
    "# Para criar um array de valores aleatórios distribuídos normalmente contendo negativos\n",
    "\n",
    "ar_dn = np.random.randn((5))\n",
    "print(ar_dn)"
   ]
  },
  {
   "cell_type": "code",
   "execution_count": 31,
   "id": "dcfdd8ff-43db-4e93-9590-74c76317e868",
   "metadata": {
    "tags": []
   },
   "outputs": [
    {
     "name": "stdout",
     "output_type": "stream",
     "text": [
      "[[1.43487666 6.92861246 8.62106677 2.41271301]\n",
      " [1.73087679 6.23506775 5.6427059  7.23538689]\n",
      " [2.98404378 2.78693388 1.07478963 7.6058954 ]]\n"
     ]
    }
   ],
   "source": [
    "# Para criar uma matriz 3x4 de valores aleatórios\n",
    "\n",
    "mt_rd = 10 * np.random.random((3,4))\n",
    "print(mt_rd)"
   ]
  },
  {
   "cell_type": "code",
   "execution_count": 39,
   "id": "99d19fb9-b0bf-4fb0-9b9a-8a0fc1e8cce8",
   "metadata": {
    "tags": []
   },
   "outputs": [
    {
     "name": "stdout",
     "output_type": "stream",
     "text": [
      "[0.51182162 0.9504637  0.14415961]\n"
     ]
    }
   ],
   "source": [
    "# Outras formas de gerar aleatórios\n",
    "\n",
    "# Uso de semente\n",
    "# Em geral, quando temos processos estocásticos (que possuem alguma forma de aleatoriedade, não determinísticos) \n",
    "# é necessário repetir o experimento, repetir os números aleatórios da mesma forma que eles foram gerados.\n",
    "# Sendo assim, a utilização de sementes é uma alternativa para que os números aleatórios gerados sejam sempre os mesmos.\n",
    "\n",
    "gnr = np.random.default_rng(1) # Nesse caso, o \"1\" é a semente\n",
    "rd = gnr.random(3) # Serão gerados 3 números aleatórios\n",
    "print(rd)"
   ]
  },
  {
   "cell_type": "code",
   "execution_count": 40,
   "id": "e0e418e2-2eb9-4789-9496-1161830e8a6e",
   "metadata": {
    "tags": []
   },
   "outputs": [
    {
     "name": "stdout",
     "output_type": "stream",
     "text": [
      "[[8 9 2 3]\n",
      " [8 4 2 8]\n",
      " [2 4 6 5]]\n"
     ]
    }
   ],
   "source": [
    "# Para gerar uma matriz 3x4 de números aleatórios inteiros até 10 usando semente\n",
    "\n",
    "rd_int = gnr.integers(10, size=(3,4))\n",
    "print(rd_int)"
   ]
  },
  {
   "cell_type": "code",
   "execution_count": 50,
   "id": "6da978dc-747b-4037-a4db-00f13f30d298",
   "metadata": {
    "tags": []
   },
   "outputs": [
    {
     "name": "stdout",
     "output_type": "stream",
     "text": [
      "[11 12 13 14 15 16 17 18 19 20]\n"
     ]
    }
   ],
   "source": [
    "# unique() para remover repetições\n",
    "\n",
    "j = np.array([11, 12, 13, 14, 15, 16, 17, 12, 13, 11, 18, 19, 20])\n",
    "j1 = np.unique(j)\n",
    "print(j1)"
   ]
  },
  {
   "cell_type": "code",
   "execution_count": 67,
   "id": "541531fd-e9a3-4153-aaff-f859613b1faa",
   "metadata": {
    "tags": []
   },
   "outputs": [
    {
     "name": "stdout",
     "output_type": "stream",
     "text": [
      "[[17 22 43]\n",
      " [27 25 14]\n",
      " [15 24 32]]\n",
      "22\n",
      "(3, 3)\n"
     ]
    }
   ],
   "source": [
    "# Propriedades da matriz\n",
    "\n",
    "k = np.array([[17, 22, 43], [27, 25, 14], [15, 24, 32]])\n",
    "print(k)\n",
    "print(k[0][1]) # Mostra um elemento específico da matriz # A indexação é iniciada em 0\n",
    "print(k.shape) # Mostra a dimensão da matriz k"
   ]
  },
  {
   "cell_type": "code",
   "execution_count": 68,
   "id": "137134fb-ebfb-45a2-8cd2-11ef4eddd76e",
   "metadata": {
    "colab": {
     "base_uri": "https://localhost:8080/"
    },
    "id": "j8aXkWLTknZs",
    "outputId": "cf98845c-c800-4408-f2c3-06994cd22731"
   },
   "outputs": [
    {
     "name": "stdout",
     "output_type": "stream",
     "text": [
      "43\n",
      "14\n",
      "219\n",
      "24.333333333333332\n",
      "8.615231988880057\n"
     ]
    }
   ],
   "source": [
    "# Funções Matemáticas\n",
    "\n",
    "# Mostra o maior valor da matriz k\n",
    "\n",
    "print(k.max())\n",
    "\n",
    "# Mostra o menor valor da matriz k\n",
    "\n",
    "print(k.min())\n",
    "\n",
    "# Mostra a soma dos valores da matriz k\n",
    "\n",
    "print((k.sum()))\n",
    "\n",
    "# Mostra o valor da média dos valores da matriz k\n",
    "\n",
    "print(k.mean())\n",
    "\n",
    "# Mostra o valor do desvio padrão (standard deviation) dos valores da matiz k\n",
    "\n",
    "print(k.std())"
   ]
  },
  {
   "cell_type": "code",
   "execution_count": 69,
   "id": "da971cec-9ecf-4923-abaa-beaebacbcb7b",
   "metadata": {
    "colab": {
     "base_uri": "https://localhost:8080/"
    },
    "id": "VABu58pJkncJ",
    "outputId": "d4b51209-0531-4001-9fa5-4892946695d2"
   },
   "outputs": [
    {
     "name": "stdout",
     "output_type": "stream",
     "text": [
      "[1. 2. 3. 4. 5. 6.]\n",
      "[2.71828183e+00 5.45981500e+01 8.10308393e+03 8.88611052e+06\n",
      " 7.20048993e+10 4.31123155e+15]\n"
     ]
    }
   ],
   "source": [
    "# Funções universais, aplicadas a todos os elementos\n",
    "\n",
    "# Mostra o valor da raiz quadrada de todos elementos\n",
    "\n",
    "k1 = np.array([1, 4, 9, 16, 25, 36])\n",
    "print(np.sqrt(k1))\n",
    "\n",
    "# Mostra o valor do exponencial de todos elementos\n",
    "\n",
    "print(np.exp(k1))"
   ]
  },
  {
   "cell_type": "code",
   "execution_count": 70,
   "id": "2dbc8447-3e46-414c-827a-ba8ff2897022",
   "metadata": {
    "colab": {
     "base_uri": "https://localhost:8080/"
    },
    "id": "1tG2157eknfR",
    "outputId": "cb644ca0-5bf1-413e-d43b-84b36ab5a9b3"
   },
   "outputs": [
    {
     "name": "stdout",
     "output_type": "stream",
     "text": [
      "2\n",
      "-------\n",
      "[1 2]\n",
      "-------\n",
      "[2 3 4 5 6]\n",
      "-------\n",
      "[4 5 6]\n"
     ]
    }
   ],
   "source": [
    "# Extração de elementos\n",
    "\n",
    "m = np.array([1, 2, 3, 4, 5, 6])\n",
    "\n",
    "# Mostra o elemento da posição 2\n",
    "\n",
    "print(m[1])\n",
    "print(\"-------\")\n",
    "\n",
    "# Mostra o array criado a partir da posição 0, dois elementos\n",
    "\n",
    "print(m[0:2]) # Em um intervalo definido, o Python ignora o último valor\n",
    "print(\"-------\")\n",
    "\n",
    "# Mostra o array criado a partir da posição 2\n",
    "# Até todo o restante do array\n",
    "\n",
    "print(m[1:])\n",
    "print(\"-------\")\n",
    "\n",
    "# Mostra o array criado a partir da antepenúltima\n",
    "# Posição até o final\n",
    "\n",
    "print(m[-3:])"
   ]
  },
  {
   "cell_type": "code",
   "execution_count": 71,
   "id": "71b1c66d-b159-43ed-8a3e-242b5fefd7cf",
   "metadata": {
    "colab": {
     "base_uri": "https://localhost:8080/"
    },
    "id": "ADaB3vqBlOIZ",
    "outputId": "2fb2b003-ad6d-4d38-c314-eb12b2b34caf"
   },
   "outputs": [
    {
     "name": "stdout",
     "output_type": "stream",
     "text": [
      "[[4 5]\n",
      " [6 1]\n",
      " [7 4]]\n",
      "-------\n",
      "[4 5]\n",
      "-------\n",
      "[6 1]\n",
      "-------\n",
      "[7 4]\n",
      "-------\n",
      "[4 6 7]\n",
      "-------\n",
      "[5 1 4]\n"
     ]
    }
   ],
   "source": [
    "# Extração de linhas e colunas\n",
    "\n",
    "l = np.array([[4, 5], [6, 1], [7, 4]])\n",
    "print(l)\n",
    "print(\"-------\")\n",
    "\n",
    "# Primeira linha, todas as colunas\n",
    "\n",
    "l_linha_1 = l[0, :]\n",
    "print(l_linha_1)\n",
    "print(\"-------\")\n",
    "\n",
    "# Segunda linha\n",
    "\n",
    "l_linha_2 = l[1, :]\n",
    "print(l_linha_2)\n",
    "print(\"-------\")\n",
    "\n",
    "# Terceira linha\n",
    "\n",
    "l_linha_3 = l[2, :]\n",
    "print(l_linha_3)\n",
    "print(\"-------\")\n",
    "\n",
    "# Todas as linhas, primeira coluna\n",
    "\n",
    "l_coluna_1 = l[:, 0]\n",
    "print(l_coluna_1)\n",
    "print(\"-------\")\n",
    "\n",
    "# Todas as linhas, segunda coluna\n",
    "\n",
    "l_coluna_2 = l[:, 1]\n",
    "print(l_coluna_2)"
   ]
  },
  {
   "cell_type": "code",
   "execution_count": 72,
   "id": "6b3e9395-3e08-40c6-a27d-3517ff95c715",
   "metadata": {
    "colab": {
     "base_uri": "https://localhost:8080/"
    },
    "id": "cO6JDvu7lOLp",
    "outputId": "876aa155-8ae6-42fd-c5ef-79d00a5268e7"
   },
   "outputs": [
    {
     "name": "stdout",
     "output_type": "stream",
     "text": [
      "[[2 3]\n",
      " [4 5]]\n",
      "-------\n",
      "[[1 2]\n",
      " [3 4]]\n",
      "-------\n",
      "[[3 3]\n",
      " [5 5]\n",
      " [7 7]]\n"
     ]
    }
   ],
   "source": [
    "# Adição e multiplicação de matrizes\n",
    "\n",
    "n = np.array([[1, 2], [3, 4]])\n",
    "o = np.array([[1, 1], [1, 1]])\n",
    "res1 = n + o\n",
    "\n",
    "print(res1)\n",
    "print(\"-------\")\n",
    "\n",
    "res2 = n * o\n",
    "\n",
    "print(res2)\n",
    "print(\"-------\")\n",
    "\n",
    "p = np.array([[1, 2], [3, 4], [5, 6]])\n",
    "q = np.array([[2, 1]])\n",
    "\n",
    "print(p + q)"
   ]
  },
  {
   "cell_type": "code",
   "execution_count": 73,
   "id": "4ae78089-80f8-4947-8404-93616b93226c",
   "metadata": {
    "colab": {
     "base_uri": "https://localhost:8080/"
    },
    "id": "urJQ-BtKlOOT",
    "outputId": "38e7443a-9b44-4ba7-b0a2-a84101aa50e3"
   },
   "outputs": [
    {
     "name": "stdout",
     "output_type": "stream",
     "text": [
      "[[ 0  1  2  3  4]\n",
      " [ 5  6  7  8  9]\n",
      " [10 11 12 13 14]]\n",
      "-------\n",
      "[[ 0  5 10]\n",
      " [ 1  6 11]\n",
      " [ 2  7 12]\n",
      " [ 3  8 13]\n",
      " [ 4  9 14]]\n"
     ]
    }
   ],
   "source": [
    "# Rearranja um conjunto de 15 elementos de 0 a 14 \n",
    "# em 3 linhas e 5 colunas.\n",
    "\n",
    "f = np.arange(15).reshape((3, 5))\n",
    "print(f)\n",
    "print(\"-------\")\n",
    "\n",
    "# Mostra a matriz transposta entre linha e coluna\n",
    "\n",
    "s = f.T # \"T\" para a obtenção da matriz transposta\n",
    "print(s)"
   ]
  },
  {
   "cell_type": "code",
   "execution_count": 74,
   "id": "c9bcd102-e88f-4f42-a4b6-4a1516cc8972",
   "metadata": {
    "colab": {
     "base_uri": "https://localhost:8080/"
    },
    "id": "6v0SlBz4lORB",
    "outputId": "00eda794-b183-40cd-e875-9c925cc734d4"
   },
   "outputs": [
    {
     "name": "stdout",
     "output_type": "stream",
     "text": [
      "[[ 0  1  2  3  4]\n",
      " [ 5  6  7  8  9]\n",
      " [10 11 12 13 14]]\n",
      "-------\n",
      "[[ 0  5 10]\n",
      " [ 1  6 11]\n",
      " [ 2  7 12]\n",
      " [ 3  8 13]\n",
      " [ 4  9 14]]\n"
     ]
    }
   ],
   "source": [
    "# Outra forma de fazer transposição, mesmo resultado\n",
    "\n",
    "r = np.arange(15).reshape((3, 5))\n",
    "print(r)\n",
    "print(\"-------\")\n",
    "\n",
    "s = r.transpose((1,0))\n",
    "print(s)"
   ]
  },
  {
   "cell_type": "code",
   "execution_count": 75,
   "id": "3e7a6067-5212-4cb6-aabc-1dea011a1fba",
   "metadata": {
    "colab": {
     "base_uri": "https://localhost:8080/"
    },
    "id": "6RcwvarDlv8i",
    "outputId": "c2738f2f-7c74-4d30-c88d-55bebcde48ec"
   },
   "outputs": [
    {
     "name": "stdout",
     "output_type": "stream",
     "text": [
      "[[ 0.06996028 -1.32427742  0.49006833  0.08437162]\n",
      " [-2.72979424 -1.40512456 -0.2421071  -0.79664992]\n",
      " [-2.05434643  0.61605674  0.48119571  0.32294138]\n",
      " [ 2.60922164  0.45083512  0.09332648 -0.72463768]]\n",
      "[[ True False  True  True]\n",
      " [False False False False]\n",
      " [False  True  True  True]\n",
      " [ True  True  True False]]\n",
      "[[ 1 -1  1  1]\n",
      " [-1 -1 -1 -1]\n",
      " [-1  1  1  1]\n",
      " [ 1  1  1 -1]]\n"
     ]
    }
   ],
   "source": [
    "# Expressões lógicas\n",
    "# Usando where\n",
    "\n",
    "# Criando matriz com valores aleatórios positivos e negativos\n",
    "\n",
    "v = np.random.randn(4, 4)\n",
    "print(v)\n",
    "\n",
    "# Criando matriz com valores booleanos baseados no array v\n",
    "\n",
    "x = (v > 0)\n",
    "print(x)\n",
    "\n",
    "# Criando matriz com valores -1 e 1 baseados nos valores do array x\n",
    "\n",
    "z = np.where(x > 0, 1, -1)\n",
    "print(z)\n"
   ]
  }
 ],
 "metadata": {
  "kernelspec": {
   "display_name": "Python 3 (ipykernel)",
   "language": "python",
   "name": "python3"
  },
  "language_info": {
   "codemirror_mode": {
    "name": "ipython",
    "version": 3
   },
   "file_extension": ".py",
   "mimetype": "text/x-python",
   "name": "python",
   "nbconvert_exporter": "python",
   "pygments_lexer": "ipython3",
   "version": "3.11.5"
  }
 },
 "nbformat": 4,
 "nbformat_minor": 5
}
